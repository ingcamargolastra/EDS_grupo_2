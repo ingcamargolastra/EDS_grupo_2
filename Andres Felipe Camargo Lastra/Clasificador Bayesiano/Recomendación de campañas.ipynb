{
 "cells": [
  {
   "cell_type": "markdown",
   "metadata": {},
   "source": [
    "# Modelo de cascada\n",
    "\n",
    "<b>Autor: </b>Andres Felipe Camargo Lastra\n",
    "\n",
    "## Definición de requisitos\n",
    "\n",
    "1. Desarrollar un algoritmo que permita predecir la recomendación de campañas para el uso de puntos de tarjeta de credito, basado en un clasificador bayesiano.\n",
    "2. Desarrollar pruebas unitarias para validar las predicciones del algoritmo.\n",
    "\n",
    "## Diseño del software y del sistema\n",
    "\n",
    "Se desea desarrollar un algoritmo para la recomendación de campañas para el uso de puntos de tarjetas de crédito. Para poder realizar el algoritmo hay que basarse en el teorema de Bayes; por tal razon se va utilizar un clasificador bayesiano. \n",
    "\n",
    "Se debe leer un dataset del banco de la alegría utilizando la librería pandas y trabajar con las primeras 7 filas. Se le asignará un valor unico númerico a cada elemento de las columnas. Las columnas del dataset son (Tipo de ocupación, Mayor a 30, Volumen de compras, Mayoria de elementos comprados, Campaña), cabe aclarar que lo que se quiere predecir es la columna Campaña.\n",
    "\n",
    "A continuación se muestran los valores de las columnas con sus respectivos valores númericos: <br>\n",
    "<ul>\n",
    "    <li>Tipo de ocupación</li>\n",
    "    <ul>\n",
    "        <li><b>Empleado: </b>0</li>\n",
    "        <li><b>Independiente: </b>1</li>\n",
    "    </ul>\n",
    "    <li>Mayor a 30</li>\n",
    "    <ul>\n",
    "        <li><b>Si: </b>1</li>\n",
    "        <li><b>No: </b>0</li>\n",
    "    </ul>\n",
    "    <li>Mayor a 30</li>\n",
    "    <ul>\n",
    "        <li><b>Si: </b>1</li>\n",
    "        <li><b>No: </b>0</li>\n",
    "    </ul>\n",
    "    <li>Volumen de compras</li>\n",
    "    <ul>\n",
    "        <li><b>Alto: </b>0</li>\n",
    "        <li><b>Medio: </b>2</li>\n",
    "        <li><b>Bajo: </b>1</li>\n",
    "    </ul>\n",
    "    <li>Mayoría de elementos comprados</li>\n",
    "    <ul>\n",
    "        <li><b>Ferretería: </b>0</li>\n",
    "        <li><b>Vestuario: </b>2</li>\n",
    "        <li><b>Mercado: </b>1</li>\n",
    "    </ul>\n",
    "    <li><b>Campaña</b></li>\n",
    "    <ul>\n",
    "        <li><b>Salud: </b>1</li>\n",
    "        <li><b>Hogar: </b>0</li>\n",
    "        <li><b>Viajes: </b>2</li>\n",
    "    </ul>\n",
    "</ul>\n",
    "\n",
    "## Implementación y pruebas unitarias\n",
    "\n",
    "Importamos la librería Pandas para leer el conjunto de datos del banco de la alegría."
   ]
  },
  {
   "cell_type": "code",
   "execution_count": 1,
   "metadata": {},
   "outputs": [],
   "source": [
    "import pandas as pd"
   ]
  },
  {
   "cell_type": "markdown",
   "metadata": {},
   "source": [
    "Almacenamos el conjunto de datos en una variable y mostramos las primeras 7 filas."
   ]
  },
  {
   "cell_type": "code",
   "execution_count": 3,
   "metadata": {},
   "outputs": [
    {
     "data": {
      "text/html": [
       "<div>\n",
       "<style scoped>\n",
       "    .dataframe tbody tr th:only-of-type {\n",
       "        vertical-align: middle;\n",
       "    }\n",
       "\n",
       "    .dataframe tbody tr th {\n",
       "        vertical-align: top;\n",
       "    }\n",
       "\n",
       "    .dataframe thead th {\n",
       "        text-align: right;\n",
       "    }\n",
       "</style>\n",
       "<table border=\"1\" class=\"dataframe\">\n",
       "  <thead>\n",
       "    <tr style=\"text-align: right;\">\n",
       "      <th></th>\n",
       "      <th>Tipo de Ocupación</th>\n",
       "      <th>Mayor a 30</th>\n",
       "      <th>Volumen de Compras</th>\n",
       "      <th>Mayoria de elementos comprados</th>\n",
       "      <th>Campaña</th>\n",
       "    </tr>\n",
       "  </thead>\n",
       "  <tbody>\n",
       "    <tr>\n",
       "      <td>0</td>\n",
       "      <td>Empleado</td>\n",
       "      <td>Si</td>\n",
       "      <td>Alto</td>\n",
       "      <td>Ferretería</td>\n",
       "      <td>Salud</td>\n",
       "    </tr>\n",
       "    <tr>\n",
       "      <td>1</td>\n",
       "      <td>Independiente</td>\n",
       "      <td>Si</td>\n",
       "      <td>Medio</td>\n",
       "      <td>Vesturario</td>\n",
       "      <td>Hogar</td>\n",
       "    </tr>\n",
       "    <tr>\n",
       "      <td>2</td>\n",
       "      <td>Independiente</td>\n",
       "      <td>No</td>\n",
       "      <td>Alto</td>\n",
       "      <td>Vesturario</td>\n",
       "      <td>Viajes</td>\n",
       "    </tr>\n",
       "    <tr>\n",
       "      <td>3</td>\n",
       "      <td>Independiente</td>\n",
       "      <td>Si</td>\n",
       "      <td>Alto</td>\n",
       "      <td>Mercado</td>\n",
       "      <td>Hogar</td>\n",
       "    </tr>\n",
       "    <tr>\n",
       "      <td>4</td>\n",
       "      <td>Empleado</td>\n",
       "      <td>Si</td>\n",
       "      <td>Bajo</td>\n",
       "      <td>Mercado</td>\n",
       "      <td>Viajes</td>\n",
       "    </tr>\n",
       "    <tr>\n",
       "      <td>5</td>\n",
       "      <td>Empleado</td>\n",
       "      <td>Si</td>\n",
       "      <td>Medio</td>\n",
       "      <td>Vesturario</td>\n",
       "      <td>Salud</td>\n",
       "    </tr>\n",
       "    <tr>\n",
       "      <td>6</td>\n",
       "      <td>Empleado</td>\n",
       "      <td>No</td>\n",
       "      <td>Alto</td>\n",
       "      <td>Vesturario</td>\n",
       "      <td>Viajes</td>\n",
       "    </tr>\n",
       "  </tbody>\n",
       "</table>\n",
       "</div>"
      ],
      "text/plain": [
       "  Tipo de Ocupación Mayor a 30 Volumen de Compras  \\\n",
       "0          Empleado         Si               Alto   \n",
       "1     Independiente         Si              Medio   \n",
       "2     Independiente         No               Alto   \n",
       "3     Independiente         Si               Alto   \n",
       "4          Empleado         Si               Bajo   \n",
       "5          Empleado         Si              Medio   \n",
       "6          Empleado         No               Alto   \n",
       "\n",
       "  Mayoria de elementos comprados Campaña  \n",
       "0                     Ferretería   Salud  \n",
       "1                     Vesturario   Hogar  \n",
       "2                     Vesturario  Viajes  \n",
       "3                        Mercado   Hogar  \n",
       "4                        Mercado  Viajes  \n",
       "5                     Vesturario   Salud  \n",
       "6                     Vesturario  Viajes  "
      ]
     },
     "execution_count": 3,
     "metadata": {},
     "output_type": "execute_result"
    }
   ],
   "source": [
    "Datos = pd.read_csv('Datos_Balegria.csv')\n",
    "Datos.head(7)\n",
    "#Datos.Campaña.unique()"
   ]
  },
  {
   "cell_type": "markdown",
   "metadata": {},
   "source": [
    "Ahora se escogen los datos para realizar el entrenamiento de la predicción. "
   ]
  },
  {
   "cell_type": "code",
   "execution_count": 45,
   "metadata": {},
   "outputs": [],
   "source": [
    "features_train = Datos.iloc[0:7,0:4]\n",
    "target_train = Datos.iloc[0:7,4]"
   ]
  },
  {
   "cell_type": "markdown",
   "metadata": {},
   "source": [
    "El siguiente paso es importar la librería preprocessing de sklearn, esta permite asignarle un valor unico númerico a cada elemento."
   ]
  },
  {
   "cell_type": "code",
   "execution_count": 46,
   "metadata": {},
   "outputs": [],
   "source": [
    "#import LabelEncoder\n",
    "from sklearn import preprocessing"
   ]
  },
  {
   "cell_type": "markdown",
   "metadata": {},
   "source": [
    "Se procede a realizar la transformación de valores en números para cada columna y se muestra al final los valores de las mismas."
   ]
  },
  {
   "cell_type": "code",
   "execution_count": 47,
   "metadata": {},
   "outputs": [
    {
     "name": "stdout",
     "output_type": "stream",
     "text": [
      "[(0, 1, 0, 0), (1, 1, 2, 2), (1, 0, 0, 2), (1, 1, 0, 1), (0, 1, 1, 1), (0, 1, 2, 2), (0, 0, 0, 2)]\n",
      "[1 0 2 0 2 1 2]\n"
     ]
    }
   ],
   "source": [
    "le = preprocessing.LabelEncoder()\n",
    "f0 = le.fit_transform(features_train.iloc[0:7,0])\n",
    "f1 = le.fit_transform(features_train.iloc[0:7,1])\n",
    "f2 = le.fit_transform(features_train.iloc[0:7,2])\n",
    "f3 = le.fit_transform(features_train.iloc[0:7,3])\n",
    "label = le.fit_transform(target_train)\n",
    "features = list(zip(f0,f1,f2,f3))\n",
    "print(features)\n",
    "print(label)"
   ]
  },
  {
   "cell_type": "markdown",
   "metadata": {},
   "source": [
    "Por ultimo utilizamos un modelo Gaussiano para predecir cual es la campaña que se le va ofrecer al usuario."
   ]
  },
  {
   "cell_type": "code",
   "execution_count": 48,
   "metadata": {},
   "outputs": [
    {
     "name": "stdout",
     "output_type": "stream",
     "text": [
      "[1]\n"
     ]
    }
   ],
   "source": [
    "from sklearn.naive_bayes import GaussianNB\n",
    "model1 = GaussianNB()\n",
    "model1.fit(features, label)\n",
    "Predicted = model1.predict([[1,1,0,2]])\n",
    "#Predicted = model1.predict([[0,1,2,1]])\n",
    "#Predicted = model1.predict([[0,0,2,1]])\n",
    "Predicted = model1.predict([[0, 1, 0, 0]])\n",
    "print(Predicted)"
   ]
  },
  {
   "cell_type": "markdown",
   "metadata": {},
   "source": [
    "### Pruebas Unitarias\n",
    "\n",
    "Para realizar pruebas unitarias haremos uso de la libreria unittest. Los datos a Probar son los siguientes:\n",
    "<br><br>\n",
    "Tipo de Ocupación \tMayor a 30 \tVolumen de Compras \tMayoria de elementos comprados \tCampaña<br>\n",
    "Empleado \tSi \tMedio \tMercado \tHogar <br>\n",
    "Independiente \tSi \tAlto \tVesturario \tViajes\n",
    "<br><br>\n",
    "En este caso observamos que ninguna de las dos pruebas cumple con las predicciones que se realizaron."
   ]
  },
  {
   "cell_type": "code",
   "execution_count": 49,
   "metadata": {},
   "outputs": [
    {
     "name": "stderr",
     "output_type": "stream",
     "text": [
      "test1_ (__main__.TestStringMethods) ... FAIL\n",
      "test2_ (__main__.TestStringMethods) ... FAIL\n",
      "\n",
      "======================================================================\n",
      "FAIL: test1_ (__main__.TestStringMethods)\n",
      "----------------------------------------------------------------------\n",
      "Traceback (most recent call last):\n",
      "  File \"<ipython-input-49-ca64c4f1ba9c>\", line 15, in test1_\n",
      "    self.assertEqual(0, predict[0])\n",
      "AssertionError: 0 != 1\n",
      "\n",
      "======================================================================\n",
      "FAIL: test2_ (__main__.TestStringMethods)\n",
      "----------------------------------------------------------------------\n",
      "Traceback (most recent call last):\n",
      "  File \"<ipython-input-49-ca64c4f1ba9c>\", line 18, in test2_\n",
      "    self.assertEqual(2, predict[0])\n",
      "AssertionError: 2 != 0\n",
      "\n",
      "----------------------------------------------------------------------\n",
      "Ran 2 tests in 0.015s\n",
      "\n",
      "FAILED (failures=2)\n"
     ]
    },
    {
     "data": {
      "text/plain": [
       "<unittest.main.TestProgram at 0x7f2a45d7e438>"
      ]
     },
     "execution_count": 49,
     "metadata": {},
     "output_type": "execute_result"
    }
   ],
   "source": [
    "import unittest\n",
    "from sklearn.naive_bayes import GaussianNB\n",
    "\n",
    "def bayesiano(a,b,c,d):\n",
    "    from sklearn.naive_bayes import GaussianNB\n",
    "    model1 = GaussianNB()\n",
    "    model1.fit(features, label)\n",
    "    Predicted = model1.predict([[a,b,c,d]])\n",
    "    return Predicted\n",
    "\n",
    "class TestStringMethods(unittest.TestCase):\n",
    "\n",
    "    def test1_(self):\n",
    "        predict = bayesiano(0,1,2,1)\n",
    "        self.assertEqual(0, predict[0])\n",
    "    def test2_(self):\n",
    "        predict = bayesiano(1, 1, 0, 2)\n",
    "        self.assertEqual(2, predict[0])\n",
    "\n",
    "unittest.main(argv=['ignored', '-v'], exit=False)\n"
   ]
  },
  {
   "cell_type": "markdown",
   "metadata": {},
   "source": [
    "## Integración y pruebas del sistema\n",
    "\n",
    "Esta aplicación podría ser integrada con una base datos en MongoDB en la cual se puedan tener millones de registros y luego realizar pruebas para predecir la campaña que se le quiere ofrecer al usuario.\n",
    "\n",
    "Para lograr la integración con MongoDB haremos uso de la librería PyMongo, la cual permite realizar la conexión a este motor de base de datos. \n",
    "\n",
    "## Operación y mantenimiento\n",
    "\n",
    "Este aplicativo se pondrá en marcha en el banco de la alegría y se le ofrece mantenimiento las 24 horas del día. A medida que el aplicativo este escalando se hace necesario utilizar un servicio cloud como AWS para el almacenamiento y su seguridad."
   ]
  }
 ],
 "metadata": {
  "kernelspec": {
   "display_name": "Python 3",
   "language": "python",
   "name": "python3"
  },
  "language_info": {
   "codemirror_mode": {
    "name": "ipython",
    "version": 3
   },
   "file_extension": ".py",
   "mimetype": "text/x-python",
   "name": "python",
   "nbconvert_exporter": "python",
   "pygments_lexer": "ipython3",
   "version": "3.7.4"
  }
 },
 "nbformat": 4,
 "nbformat_minor": 2
}
