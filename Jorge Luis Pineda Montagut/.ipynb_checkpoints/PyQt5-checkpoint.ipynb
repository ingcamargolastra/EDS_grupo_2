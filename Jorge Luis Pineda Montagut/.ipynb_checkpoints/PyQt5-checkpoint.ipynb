{
 "cells": [
  {
   "cell_type": "code",
   "execution_count": 1,
   "metadata": {},
   "outputs": [],
   "source": [
    "from PyQt5 import QtWidgets, QtCore, QtGui\n",
    "from PyQt5.QtWidgets import QApplication, QMainWindow\n",
    "import pandas as pd\n",
    "import sys\n",
    "import numpy as np  \n",
    "import matplotlib.pyplot as plt  \n",
    "#import seaborn as seabornInstance \n",
    "from sklearn.model_selection import train_test_split \n",
    "from sklearn.linear_model import LinearRegression\n",
    "from sklearn import metrics\n",
    "%matplotlib inline\n",
    "from sklearn import preprocessing"
   ]
  },
  {
   "cell_type": "code",
   "execution_count": 2,
   "metadata": {},
   "outputs": [
    {
     "name": "stdout",
     "output_type": "stream",
     "text": [
      "['Audi' 'Austin/Morris' 'BMW' 'Chevrolet' 'Citroen' 'Daewoo' 'Daihatsu'\n",
      " 'Fiat Auto' 'Ford Corporation' 'Honda' 'Hyundai' 'Kia' 'Mazda' 'MCC'\n",
      " 'Mercedes' 'Nissan/Datsun' 'Perodua' 'Peugeot' 'Renault' 'Rover Cars'\n",
      " 'Seat' 'Skoda' 'Subaru' 'Suzuki' 'Talbot' 'Toyota' 'Vauxhall'\n",
      " 'Volkswagen']\n"
     ]
    },
    {
     "ename": "NameError",
     "evalue": "name 'manufactura_list' is not defined",
     "output_type": "error",
     "traceback": [
      "\u001b[0;31m---------------------------------------------------------------------------\u001b[0m",
      "\u001b[0;31mNameError\u001b[0m                                 Traceback (most recent call last)",
      "\u001b[0;32m<ipython-input-2-8a3a1d0484e6>\u001b[0m in \u001b[0;36mtakeinputs\u001b[0;34m(self)\u001b[0m\n\u001b[1;32m     36\u001b[0m     \u001b[0;32mdef\u001b[0m \u001b[0mtakeinputs\u001b[0m\u001b[0;34m(\u001b[0m\u001b[0mself\u001b[0m\u001b[0;34m)\u001b[0m\u001b[0;34m:\u001b[0m\u001b[0;34m\u001b[0m\u001b[0;34m\u001b[0m\u001b[0m\n\u001b[1;32m     37\u001b[0m         manufactura, done_manufactura = QtWidgets.QInputDialog.getItem( \n\u001b[0;32m---> 38\u001b[0;31m           self, 'Input Dialog', 'Ingrese la manufactura:', manufactura_list) \n\u001b[0m\u001b[1;32m     39\u001b[0m \u001b[0;34m\u001b[0m\u001b[0m\n\u001b[1;32m     40\u001b[0m         modelo, done_modelo = QtWidgets.QInputDialog.getItem( \n",
      "\u001b[0;31mNameError\u001b[0m: name 'manufactura_list' is not defined"
     ]
    },
    {
     "ename": "NameError",
     "evalue": "name 'manufactura_list' is not defined",
     "output_type": "error",
     "traceback": [
      "\u001b[0;31m---------------------------------------------------------------------------\u001b[0m",
      "\u001b[0;31mNameError\u001b[0m                                 Traceback (most recent call last)",
      "\u001b[0;32m<ipython-input-2-8a3a1d0484e6>\u001b[0m in \u001b[0;36mtakeinputs\u001b[0;34m(self)\u001b[0m\n\u001b[1;32m     36\u001b[0m     \u001b[0;32mdef\u001b[0m \u001b[0mtakeinputs\u001b[0m\u001b[0;34m(\u001b[0m\u001b[0mself\u001b[0m\u001b[0;34m)\u001b[0m\u001b[0;34m:\u001b[0m\u001b[0;34m\u001b[0m\u001b[0;34m\u001b[0m\u001b[0m\n\u001b[1;32m     37\u001b[0m         manufactura, done_manufactura = QtWidgets.QInputDialog.getItem( \n\u001b[0;32m---> 38\u001b[0;31m           self, 'Input Dialog', 'Ingrese la manufactura:', manufactura_list) \n\u001b[0m\u001b[1;32m     39\u001b[0m \u001b[0;34m\u001b[0m\u001b[0m\n\u001b[1;32m     40\u001b[0m         modelo, done_modelo = QtWidgets.QInputDialog.getItem( \n",
      "\u001b[0;31mNameError\u001b[0m: name 'manufactura_list' is not defined"
     ]
    },
    {
     "ename": "NameError",
     "evalue": "name 'manufactura_list' is not defined",
     "output_type": "error",
     "traceback": [
      "\u001b[0;31m---------------------------------------------------------------------------\u001b[0m",
      "\u001b[0;31mNameError\u001b[0m                                 Traceback (most recent call last)",
      "\u001b[0;32m<ipython-input-2-8a3a1d0484e6>\u001b[0m in \u001b[0;36mtakeinputs\u001b[0;34m(self)\u001b[0m\n\u001b[1;32m     36\u001b[0m     \u001b[0;32mdef\u001b[0m \u001b[0mtakeinputs\u001b[0m\u001b[0;34m(\u001b[0m\u001b[0mself\u001b[0m\u001b[0;34m)\u001b[0m\u001b[0;34m:\u001b[0m\u001b[0;34m\u001b[0m\u001b[0;34m\u001b[0m\u001b[0m\n\u001b[1;32m     37\u001b[0m         manufactura, done_manufactura = QtWidgets.QInputDialog.getItem( \n\u001b[0;32m---> 38\u001b[0;31m           self, 'Input Dialog', 'Ingrese la manufactura:', manufactura_list) \n\u001b[0m\u001b[1;32m     39\u001b[0m \u001b[0;34m\u001b[0m\u001b[0m\n\u001b[1;32m     40\u001b[0m         modelo, done_modelo = QtWidgets.QInputDialog.getItem( \n",
      "\u001b[0;31mNameError\u001b[0m: name 'manufactura_list' is not defined"
     ]
    },
    {
     "ename": "NameError",
     "evalue": "name 'manufactura_list' is not defined",
     "output_type": "error",
     "traceback": [
      "\u001b[0;31m---------------------------------------------------------------------------\u001b[0m",
      "\u001b[0;31mNameError\u001b[0m                                 Traceback (most recent call last)",
      "\u001b[0;32m<ipython-input-2-8a3a1d0484e6>\u001b[0m in \u001b[0;36mtakeinputs\u001b[0;34m(self)\u001b[0m\n\u001b[1;32m     36\u001b[0m     \u001b[0;32mdef\u001b[0m \u001b[0mtakeinputs\u001b[0m\u001b[0;34m(\u001b[0m\u001b[0mself\u001b[0m\u001b[0;34m)\u001b[0m\u001b[0;34m:\u001b[0m\u001b[0;34m\u001b[0m\u001b[0;34m\u001b[0m\u001b[0m\n\u001b[1;32m     37\u001b[0m         manufactura, done_manufactura = QtWidgets.QInputDialog.getItem( \n\u001b[0;32m---> 38\u001b[0;31m           self, 'Input Dialog', 'Ingrese la manufactura:', manufactura_list) \n\u001b[0m\u001b[1;32m     39\u001b[0m \u001b[0;34m\u001b[0m\u001b[0m\n\u001b[1;32m     40\u001b[0m         modelo, done_modelo = QtWidgets.QInputDialog.getItem( \n",
      "\u001b[0;31mNameError\u001b[0m: name 'manufactura_list' is not defined"
     ]
    },
    {
     "ename": "SystemExit",
     "evalue": "0",
     "output_type": "error",
     "traceback": [
      "An exception has occurred, use %tb to see the full traceback.\n",
      "\u001b[0;31mSystemExit\u001b[0m\u001b[0;31m:\u001b[0m 0\n"
     ]
    },
    {
     "name": "stderr",
     "output_type": "stream",
     "text": [
      "/home/jorge/anaconda3/envs/myenv/lib/python3.7/site-packages/IPython/core/interactiveshell.py:3334: UserWarning: To exit: use 'exit', 'quit', or Ctrl-D.\n",
      "  warn(\"To exit: use 'exit', 'quit', or Ctrl-D.\", stacklevel=1)\n"
     ]
    }
   ],
   "source": [
    "class Ui_MainWindow(QtWidgets.QWidget): \n",
    "    # default constructor \n",
    "    #def __init__(self): \n",
    "    #    self.logica = Logica()\n",
    "    #    print(self.logica.getData().head())\n",
    "                \n",
    "    def setupUi(self, MainWindow):\n",
    "        dataset = pd.read_csv('DatosAutos.csv', header = 0)\n",
    "        dataset.head()\n",
    "        self.manufactura_list = dataset['Manufactura'].unique()\n",
    "        print(self.manufactura_list)\n",
    "        self.modelo_list = dataset['Modelo'].unique()\n",
    "        print(self.modelo_list)\n",
    "        self.variante_list = dataset['Variante'].unique()\n",
    "        print(self.variante_list)\n",
    "        \n",
    "        MainWindow.resize(422, 255) \n",
    "        self.centralwidget = QtWidgets.QWidget(MainWindow) \n",
    "  \n",
    "        self.pushButton = QtWidgets.QPushButton(self.centralwidget) \n",
    "        self.pushButton.setGeometry(QtCore.QRect(160, 130, 93, 28)) \n",
    "  \n",
    "        # For displaying confirmation message along with user's info.  \n",
    "        self.label = QtWidgets.QLabel(self.centralwidget)     \n",
    "        self.label.setGeometry(QtCore.QRect(170, 40, 201, 111)) \n",
    "  \n",
    "        # Keeping the text of label empty initially.        \n",
    "        self.label.setText(\"\")      \n",
    "  \n",
    "        MainWindow.setCentralWidget(self.centralwidget) \n",
    "        self.retranslateUi(MainWindow) \n",
    "        QtCore.QMetaObject.connectSlotsByName(MainWindow) \n",
    "  \n",
    "    def retranslateUi(self, MainWindow): \n",
    "        _translate = QtCore.QCoreApplication.translate \n",
    "        MainWindow.setWindowTitle(_translate(\"MainWindow\", \"MainWindow\")) \n",
    "        self.pushButton.setText(_translate(\"MainWindow\", \"Proceed\")) \n",
    "        self.pushButton.clicked.connect(self.takeinputs) \n",
    "          \n",
    "    def takeinputs(self): \n",
    "        manufactura, done_manufactura = QtWidgets.QInputDialog.getItem( \n",
    "          self, 'Input Dialog', 'Ingrese la manufactura:', self.manufactura_list) \n",
    "        \n",
    "        modelo, done_modelo = QtWidgets.QInputDialog.getItem( \n",
    "          self, 'Input Dialog', 'Ingrese la modelo:', self.modelo_list) \n",
    "  \n",
    "        variante, done_variante = QtWidgets.QInputDialog.getItem( \n",
    "          self, 'Input Dialog', 'Ingrese la variante:', self.modelo_list)\n",
    "  \n",
    "        if done_manufactura and done_modelo and done_variante : \n",
    "             # Showing confirmation message along \n",
    "             # with information provided by user.  \n",
    "             self.label.setText('Information stored Successfully\\nMAnufactura: '\n",
    "                                 +str(manufactura)+'\\n'+'Modelo: '\n",
    "                                 +str(modelo)+'\\nVariante: '+str(variante))    \n",
    "   \n",
    "             # Hide the pushbutton after inputs provided by the use. \n",
    "             self.pushButton.hide()       \n",
    "                \n",
    "\n",
    "               \n",
    "if __name__ == \"__main__\":  \n",
    "    app = QtWidgets.QApplication(sys.argv)  \n",
    "    MainWindow = QtWidgets.QMainWindow()  \n",
    "    ui = Ui_MainWindow()  \n",
    "    ui.setupUi(MainWindow)  \n",
    "    MainWindow.show()\n",
    "  \n",
    "    sys.exit(app.exec_())"
   ]
  },
  {
   "cell_type": "code",
   "execution_count": null,
   "metadata": {},
   "outputs": [],
   "source": []
  },
  {
   "cell_type": "code",
   "execution_count": null,
   "metadata": {},
   "outputs": [],
   "source": []
  },
  {
   "cell_type": "code",
   "execution_count": null,
   "metadata": {},
   "outputs": [],
   "source": []
  }
 ],
 "metadata": {
  "kernelspec": {
   "display_name": "Python 3",
   "language": "python",
   "name": "python3"
  },
  "language_info": {
   "codemirror_mode": {
    "name": "ipython",
    "version": 3
   },
   "file_extension": ".py",
   "mimetype": "text/x-python",
   "name": "python",
   "nbconvert_exporter": "python",
   "pygments_lexer": "ipython3",
   "version": "3.7.5"
  }
 },
 "nbformat": 4,
 "nbformat_minor": 2
}
