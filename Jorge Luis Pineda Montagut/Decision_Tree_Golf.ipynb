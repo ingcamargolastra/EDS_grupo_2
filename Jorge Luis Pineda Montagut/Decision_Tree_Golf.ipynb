{
 "cells": [
  {
   "cell_type": "markdown",
   "metadata": {},
   "source": [
    "# Decisión Tree"
   ]
  },
  {
   "cell_type": "markdown",
   "metadata": {},
   "source": [
    "Primeramenta necesitamos instalar los siguientes paquetes, los cuales son necesarios para el algoritmo de Arboles de decisiones."
   ]
  },
  {
   "cell_type": "code",
   "execution_count": 1,
   "metadata": {},
   "outputs": [],
   "source": [
    "#pip install graphviz\n",
    "#pip install pydotplus\n",
    "#pip install decision-tree-id3"
   ]
  },
  {
   "cell_type": "markdown",
   "metadata": {},
   "source": [
    "### Graphviz\n",
    "Este paquete facilita y permite la creación y represantación de grafos.\n",
    "\n",
    "### Pydotplus\n",
    "Este paquete proporciona una interaz que dibuja el grafo.\n",
    "\n",
    "### Decision-tree-id3\n",
    "Este paquete proporciona el algoritmo de aprendizaje automático id3, el cual permite construir arboles de clasificación. Este algoritmo fue desarrollado por Ross Quinlan en 1986.\n",
    "<hr>\n",
    "\n",
    "Luego de haber instalado los paquetes anteriores se procede a importar las librerias necesarias para el algoritmo. \n",
    "\n",
    "<ul>\n",
    "    <li><strong> Pandas: </strong> esta librería facilita la manipulación y el analisis de datos.</li>\n",
    "    <li><strong> Matplotlib.pyplot:</strong> esta librería proporciona la generación de gráficos a partir de datos contenidos en listas o arrays.</li>\n",
    "    <li><strong> Seaborn:</strong> esta librería esta basada en Matploblib, proporciona una interfaz de alto nivel para dibujar gráficos estadísticos atractivos e informativos.</li>\n",
    "    <li><strong> Tree from sklearn:</strong> esta librería permite crear el arbol de decisión.</li>\n",
    "    <li><strong> Pydotplus:</strong> esta librería proporciona una interfaz que dibuja el grafo de arbol de decisión.</li>\n",
    "    <li><strong> Image:</strong> esta librería facilita la visualización del grafo como una imagen.</li>\n",
    "</ul>"
   ]
  },
  {
   "cell_type": "code",
   "execution_count": 2,
   "metadata": {},
   "outputs": [],
   "source": [
    "import pandas as pd\n",
    "import matplotlib.pyplot as plt\n",
    "import seaborn as sns\n",
    "from sklearn import tree #For our Decision Tree\n",
    "import pydotplus # To create our Decision Tree Graph\n",
    "from IPython.display import Image  # To Display a image of our graph"
   ]
  },
  {
   "cell_type": "markdown",
   "metadata": {},
   "source": [
    "Teniendo todas las librerias importadas,en este caso <strong>Pandas</strong> se procede a realizar la lectura del archvio que contiene el conjunto de datos a manipular. Para ello se utiliza la función <em>pandas.read_csv(filepath_or_buffer)</em>, la cual recibe como parametro la ruta del archivo css y lo almacena en un dataframe."
   ]
  },
  {
   "cell_type": "code",
   "execution_count": 3,
   "metadata": {},
   "outputs": [],
   "source": [
    "golf = pd.read_csv('golf_dataset_Binary.csv')"
   ]
  },
  {
   "cell_type": "markdown",
   "metadata": {},
   "source": [
    "El dataframe ha sido almacenado en la variable <em>golf</em>, y para imprimir el resultado de las n primeras filas, se hace uso de la función <em>golf.head(n)</em> (cabe aclarar que n debe ser un entero mayor que 0). Para este caso n tendrá un valor de 5 y se puede observar a continuación. <br> Por otra parte, si se quieren obtener los valores unicos en una columna especifica, se utiliza la siguiente función: <em>golf.nombre_columna.unique()</em>."
   ]
  },
  {
   "cell_type": "code",
   "execution_count": 4,
   "metadata": {},
   "outputs": [
    {
     "data": {
      "text/html": [
       "<div>\n",
       "<style scoped>\n",
       "    .dataframe tbody tr th:only-of-type {\n",
       "        vertical-align: middle;\n",
       "    }\n",
       "\n",
       "    .dataframe tbody tr th {\n",
       "        vertical-align: top;\n",
       "    }\n",
       "\n",
       "    .dataframe thead th {\n",
       "        text-align: right;\n",
       "    }\n",
       "</style>\n",
       "<table border=\"1\" class=\"dataframe\">\n",
       "  <thead>\n",
       "    <tr style=\"text-align: right;\">\n",
       "      <th></th>\n",
       "      <th>Outlook</th>\n",
       "      <th>Temperature</th>\n",
       "      <th>Humidity</th>\n",
       "      <th>Windy</th>\n",
       "      <th>Play</th>\n",
       "    </tr>\n",
       "  </thead>\n",
       "  <tbody>\n",
       "    <tr>\n",
       "      <td>0</td>\n",
       "      <td>Sunny</td>\n",
       "      <td>Hot</td>\n",
       "      <td>High</td>\n",
       "      <td>False</td>\n",
       "      <td>no</td>\n",
       "    </tr>\n",
       "    <tr>\n",
       "      <td>1</td>\n",
       "      <td>Sunny</td>\n",
       "      <td>Hot</td>\n",
       "      <td>High</td>\n",
       "      <td>True</td>\n",
       "      <td>no</td>\n",
       "    </tr>\n",
       "    <tr>\n",
       "      <td>2</td>\n",
       "      <td>Rain</td>\n",
       "      <td>Hot</td>\n",
       "      <td>High</td>\n",
       "      <td>False</td>\n",
       "      <td>no</td>\n",
       "    </tr>\n",
       "    <tr>\n",
       "      <td>3</td>\n",
       "      <td>Rain</td>\n",
       "      <td>Cool</td>\n",
       "      <td>Normal</td>\n",
       "      <td>False</td>\n",
       "      <td>yes</td>\n",
       "    </tr>\n",
       "    <tr>\n",
       "      <td>4</td>\n",
       "      <td>Rain</td>\n",
       "      <td>Cool</td>\n",
       "      <td>Normal</td>\n",
       "      <td>True</td>\n",
       "      <td>no</td>\n",
       "    </tr>\n",
       "  </tbody>\n",
       "</table>\n",
       "</div>"
      ],
      "text/plain": [
       "  Outlook Temperature Humidity  Windy Play\n",
       "0   Sunny         Hot     High  False   no\n",
       "1   Sunny         Hot     High   True   no\n",
       "2    Rain         Hot     High  False   no\n",
       "3    Rain        Cool   Normal  False  yes\n",
       "4    Rain        Cool   Normal   True   no"
      ]
     },
     "execution_count": 4,
     "metadata": {},
     "output_type": "execute_result"
    }
   ],
   "source": [
    "golf.head(5)\n",
    "#golf.Outlook.unique()"
   ]
  },
  {
   "cell_type": "markdown",
   "metadata": {},
   "source": [
    "El siguiente paso es transformar el conjunto de datos en una matriz de representación númerica. Para lograr esto se hace uso del método <em>pandas.factorize()</em>, esta función identifica los valores distintos de cada columna del dataset y le asigna un valor númerico mayor o igual a 0, si no encuentra valores, este le asigna -1. En este caso se aplica a las columnas(Outlook, Temperature, Humidity, Windy)."
   ]
  },
  {
   "cell_type": "code",
   "execution_count": 5,
   "metadata": {},
   "outputs": [],
   "source": [
    "#factorize makes a categorical attribute to a numerical represetation\n",
    "golf['Outlook'],_ = pd.factorize(golf['Outlook'])\n",
    "golf['Temperature'],_ = pd.factorize(golf['Temperature'])\n",
    "golf['Humidity'],_ = pd.factorize(golf['Humidity'])\n",
    "golf['Windy'],_ = pd.factorize(golf['Windy'])\n",
    "#golf['Play'],_ = pd.factorize(golf['Play'])"
   ]
  },
  {
   "cell_type": "markdown",
   "metadata": {},
   "source": [
    "A continuación se puede observar la matriz de representación númerica."
   ]
  },
  {
   "cell_type": "code",
   "execution_count": 6,
   "metadata": {},
   "outputs": [
    {
     "name": "stdout",
     "output_type": "stream",
     "text": [
      "   Outlook  Temperature  Humidity  Windy Play\n",
      "0        0            0         0      0   no\n",
      "1        0            0         0      1   no\n",
      "2        1            0         0      0   no\n",
      "3        1            1         1      0  yes\n",
      "4        1            1         1      1   no\n",
      "5        0            0         0      0   no\n",
      "6        0            1         1      0  yes\n",
      "7        1            0         1      0  yes\n",
      "8        0            1         1      1  yes\n",
      "9        1            0         1      1   no\n"
     ]
    }
   ],
   "source": [
    "print(golf)"
   ]
  },
  {
   "cell_type": "markdown",
   "metadata": {},
   "source": [
    "Teniendo la matriz con los valores representados en números, se utiliza el método <em>pandas.DataFrame.loc</em> el cual permite acceder a un grupo de filas y columnas por medio de una matriz booleana."
   ]
  },
  {
   "cell_type": "code",
   "execution_count": 7,
   "metadata": {},
   "outputs": [],
   "source": [
    "#one hot the data\n",
    "one_hot_data = golf.loc[:,('Outlook','Temperature','Humidity','Windy')]"
   ]
  },
  {
   "cell_type": "markdown",
   "metadata": {},
   "source": [
    "Ahora se necesita entrenar el arbol de decisión. Pero primero se debe usar un clasificador, para esto se utiliza el método <em>sklearn.tree.DecisionTreeClassifier(criterion)</em>, el cual puede entrenarse por dos criterios(gini, entropía), en este caso se aplica el criterio entropía debido a que lo que se busca es obtener ganancia de información.\n",
    "<br><br>\n",
    "Una vez se tenga el clasificador, se procede a entrenar el arbol de decisión utilizando el metodo <em>.fit</em> el cual recibe como parámetro el grupo de filas <em>one_hot_data</em> y la columna respuesta."
   ]
  },
  {
   "cell_type": "code",
   "execution_count": 8,
   "metadata": {},
   "outputs": [],
   "source": [
    "# train the decision tree\n",
    "#dtree = tree.DecisionTreeClassifier(criterion='entropy', max_depth=3, random_state=0)\n",
    "clf = tree.DecisionTreeClassifier(criterion='entropy')\n",
    "clf_train = clf.fit(one_hot_data, golf['Play'])\n",
    "#conda install python-graphviz"
   ]
  },
  {
   "cell_type": "markdown",
   "metadata": {},
   "source": [
    "Luego de tener el arbol de decisión entrenado, se procede a exportarlo como una imagen. Para esto se necesitan los nombres de las columnas los cuales son obtenidos con la función <em>golf.columns</em>; una vez se tengan los nombres de las columnas se procede a crear el grafo utilizando el método <em>tree.export_graphviz()</em> el cual recibe como parámetros el arbol de decisión entrenado, las columnas y los nombres de las clases."
   ]
  },
  {
   "cell_type": "code",
   "execution_count": 14,
   "metadata": {},
   "outputs": [
    {
     "name": "stdout",
     "output_type": "stream",
     "text": [
      "digraph Tree {\n",
      "node [shape=box, style=\"filled, rounded\", color=\"black\", fontname=helvetica] ;\n",
      "edge [fontname=helvetica] ;\n",
      "0 [label=\"Humidity <= 0.5\\nentropy = 0.971\\nsamples = 10\\nvalue = [6, 4]\\nclass = Not_Play\", fillcolor=\"#f6d5bd\"] ;\n",
      "1 [label=\"entropy = 0.0\\nsamples = 4\\nvalue = [4, 0]\\nclass = Not_Play\", fillcolor=\"#e58139\"] ;\n",
      "0 -> 1 [labeldistance=2.5, labelangle=45, headlabel=\"True\"] ;\n",
      "2 [label=\"Windy <= 0.5\\nentropy = 0.918\\nsamples = 6\\nvalue = [2, 4]\\nclass = Play\", fillcolor=\"#9ccef2\"] ;\n",
      "0 -> 2 [labeldistance=2.5, labelangle=-45, headlabel=\"False\"] ;\n",
      "3 [label=\"entropy = 0.0\\nsamples = 3\\nvalue = [0, 3]\\nclass = Play\", fillcolor=\"#399de5\"] ;\n",
      "2 -> 3 ;\n",
      "4 [label=\"Outlook <= 0.5\\nentropy = 0.918\\nsamples = 3\\nvalue = [2, 1]\\nclass = Not_Play\", fillcolor=\"#f2c09c\"] ;\n",
      "2 -> 4 ;\n",
      "5 [label=\"entropy = 0.0\\nsamples = 1\\nvalue = [0, 1]\\nclass = Play\", fillcolor=\"#399de5\"] ;\n",
      "4 -> 5 ;\n",
      "6 [label=\"entropy = 0.0\\nsamples = 2\\nvalue = [2, 0]\\nclass = Not_Play\", fillcolor=\"#e58139\"] ;\n",
      "4 -> 6 ;\n",
      "}\n"
     ]
    },
    {
     "ename": "InvocationException",
     "evalue": "GraphViz's executables not found",
     "output_type": "error",
     "traceback": [
      "\u001b[1;31m---------------------------------------------------------------------------\u001b[0m",
      "\u001b[1;31mInvocationException\u001b[0m                       Traceback (most recent call last)",
      "\u001b[1;32m<ipython-input-14-e14eedbabea5>\u001b[0m in \u001b[0;36m<module>\u001b[1;34m\u001b[0m\n\u001b[0;32m      5\u001b[0m \u001b[0mprint\u001b[0m\u001b[1;33m(\u001b[0m\u001b[0mdot_data\u001b[0m\u001b[1;33m)\u001b[0m\u001b[1;33m\u001b[0m\u001b[1;33m\u001b[0m\u001b[0m\n\u001b[0;32m      6\u001b[0m \u001b[0mgraph\u001b[0m \u001b[1;33m=\u001b[0m \u001b[0mpydotplus\u001b[0m\u001b[1;33m.\u001b[0m\u001b[0mgraph_from_dot_data\u001b[0m\u001b[1;33m(\u001b[0m\u001b[0mdot_data\u001b[0m\u001b[1;33m)\u001b[0m\u001b[1;33m\u001b[0m\u001b[1;33m\u001b[0m\u001b[0m\n\u001b[1;32m----> 7\u001b[1;33m \u001b[0mImage\u001b[0m\u001b[1;33m(\u001b[0m\u001b[0mgraph\u001b[0m\u001b[1;33m.\u001b[0m\u001b[0mcreate_png\u001b[0m\u001b[1;33m(\u001b[0m\u001b[1;33m)\u001b[0m\u001b[1;33m)\u001b[0m\u001b[1;33m\u001b[0m\u001b[1;33m\u001b[0m\u001b[0m\n\u001b[0m",
      "\u001b[1;32m~\\Anaconda3\\lib\\site-packages\\pydotplus\\graphviz.py\u001b[0m in \u001b[0;36m<lambda>\u001b[1;34m(f, prog)\u001b[0m\n\u001b[0;32m   1795\u001b[0m             self.__setattr__(\n\u001b[0;32m   1796\u001b[0m                 \u001b[1;34m'create_'\u001b[0m \u001b[1;33m+\u001b[0m \u001b[0mfrmt\u001b[0m\u001b[1;33m,\u001b[0m\u001b[1;33m\u001b[0m\u001b[1;33m\u001b[0m\u001b[0m\n\u001b[1;32m-> 1797\u001b[1;33m                 \u001b[1;32mlambda\u001b[0m \u001b[0mf\u001b[0m\u001b[1;33m=\u001b[0m\u001b[0mfrmt\u001b[0m\u001b[1;33m,\u001b[0m \u001b[0mprog\u001b[0m\u001b[1;33m=\u001b[0m\u001b[0mself\u001b[0m\u001b[1;33m.\u001b[0m\u001b[0mprog\u001b[0m\u001b[1;33m:\u001b[0m \u001b[0mself\u001b[0m\u001b[1;33m.\u001b[0m\u001b[0mcreate\u001b[0m\u001b[1;33m(\u001b[0m\u001b[0mformat\u001b[0m\u001b[1;33m=\u001b[0m\u001b[0mf\u001b[0m\u001b[1;33m,\u001b[0m \u001b[0mprog\u001b[0m\u001b[1;33m=\u001b[0m\u001b[0mprog\u001b[0m\u001b[1;33m)\u001b[0m\u001b[1;33m\u001b[0m\u001b[1;33m\u001b[0m\u001b[0m\n\u001b[0m\u001b[0;32m   1798\u001b[0m             )\n\u001b[0;32m   1799\u001b[0m             \u001b[0mf\u001b[0m \u001b[1;33m=\u001b[0m \u001b[0mself\u001b[0m\u001b[1;33m.\u001b[0m\u001b[0m__dict__\u001b[0m\u001b[1;33m[\u001b[0m\u001b[1;34m'create_'\u001b[0m \u001b[1;33m+\u001b[0m \u001b[0mfrmt\u001b[0m\u001b[1;33m]\u001b[0m\u001b[1;33m\u001b[0m\u001b[1;33m\u001b[0m\u001b[0m\n",
      "\u001b[1;32m~\\Anaconda3\\lib\\site-packages\\pydotplus\\graphviz.py\u001b[0m in \u001b[0;36mcreate\u001b[1;34m(self, prog, format)\u001b[0m\n\u001b[0;32m   1958\u001b[0m             \u001b[1;32mif\u001b[0m \u001b[0mself\u001b[0m\u001b[1;33m.\u001b[0m\u001b[0mprogs\u001b[0m \u001b[1;32mis\u001b[0m \u001b[1;32mNone\u001b[0m\u001b[1;33m:\u001b[0m\u001b[1;33m\u001b[0m\u001b[1;33m\u001b[0m\u001b[0m\n\u001b[0;32m   1959\u001b[0m                 raise InvocationException(\n\u001b[1;32m-> 1960\u001b[1;33m                     'GraphViz\\'s executables not found')\n\u001b[0m\u001b[0;32m   1961\u001b[0m \u001b[1;33m\u001b[0m\u001b[0m\n\u001b[0;32m   1962\u001b[0m         \u001b[1;32mif\u001b[0m \u001b[0mprog\u001b[0m \u001b[1;32mnot\u001b[0m \u001b[1;32min\u001b[0m \u001b[0mself\u001b[0m\u001b[1;33m.\u001b[0m\u001b[0mprogs\u001b[0m\u001b[1;33m:\u001b[0m\u001b[1;33m\u001b[0m\u001b[1;33m\u001b[0m\u001b[0m\n",
      "\u001b[1;31mInvocationException\u001b[0m: GraphViz's executables not found"
     ]
    }
   ],
   "source": [
    "feature_names = golf.columns\n",
    "\n",
    "dot_data = tree.export_graphviz(clf_train, out_file=None, feature_names=list(one_hot_data.columns.values),\n",
    "                                class_names=['Not_Play', 'Play'], rounded = True, filled = True)\n",
    "print(dot_data)\n",
    "graph = pydotplus.graph_from_dot_data(dot_data)\n",
    "Image(graph.create_png())"
   ]
  }
 ],
 "metadata": {
  "kernelspec": {
   "display_name": "Python 3",
   "language": "python",
   "name": "python3"
  },
  "language_info": {
   "codemirror_mode": {
    "name": "ipython",
    "version": 3
   },
   "file_extension": ".py",
   "mimetype": "text/x-python",
   "name": "python",
   "nbconvert_exporter": "python",
   "pygments_lexer": "ipython3",
   "version": "3.7.4"
  }
 },
 "nbformat": 4,
 "nbformat_minor": 2
}
