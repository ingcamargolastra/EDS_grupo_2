{
 "cells": [
  {
   "cell_type": "markdown",
   "metadata": {},
   "source": [
    "# Requirements definition\n",
    "Se require desarollar un recomendador de campañas para el uso de puntos de tarjeta de credito. El usuario podrá consultar la campaña recomendada basado en el uso de puntos consultando una fuente de datos para obtener.\n",
    "La fuente de datos proporciona unos registros que equivalen al comportamiento de compra de una persona brindando información tal como: tipo de ocupación, si la persona es mayor a 30, el volumen de compras realizado y la mayoria de elementos comprados. "
   ]
  },
  {
   "cell_type": "markdown",
   "metadata": {},
   "source": [
    "# System and software design\n",
    "El algoritmo desarrollado se contruirá en lenguaje python ya que permite el uso de librerias especificas para la funcionalidad de recomendación solicitada.\n",
    "Se usará como fuente de datos un archivo CSV del cual se extraeran los registros a utilizar. \n",
    "Se requiere contar con las librerias pandas, preprocessing, GaussianNB y unittest que debe estar previamente instaladas.\n",
    "Se aplicarán las pruebas unitarias necesarias para comprobar el correcto funcionamiento de la lógica y código digitado.\n"
   ]
  },
  {
   "cell_type": "markdown",
   "metadata": {},
   "source": [
    "# Implementation and unit testing\n",
    "Instalamos las librerias:\n",
    "    \n",
    "    -pandas\n",
    "    \n",
    "    -scikit-learn \n",
    "    \n",
    "    -GaussianNB\n",
    "    \n",
    "    -unittest\n",
    "    \n",
    "Se importa la libreria pandas que es una herramienta de analisis de codigo abierto para el analisis de datos estructurados y lo renombramos para facilitar su uso."
   ]
  },
  {
   "cell_type": "code",
   "execution_count": 54,
   "metadata": {},
   "outputs": [],
   "source": [
    "import pandas as pd"
   ]
  },
  {
   "cell_type": "markdown",
   "metadata": {},
   "source": [
    "Se lee el archivo CSV donde esta almacenada la fuente de datos a través de la función read_csv. Luego obtenemos las primeras 7 filas del archivo."
   ]
  },
  {
   "cell_type": "code",
   "execution_count": 40,
   "metadata": {},
   "outputs": [
    {
     "data": {
      "text/html": [
       "<div>\n",
       "<style scoped>\n",
       "    .dataframe tbody tr th:only-of-type {\n",
       "        vertical-align: middle;\n",
       "    }\n",
       "\n",
       "    .dataframe tbody tr th {\n",
       "        vertical-align: top;\n",
       "    }\n",
       "\n",
       "    .dataframe thead th {\n",
       "        text-align: right;\n",
       "    }\n",
       "</style>\n",
       "<table border=\"1\" class=\"dataframe\">\n",
       "  <thead>\n",
       "    <tr style=\"text-align: right;\">\n",
       "      <th></th>\n",
       "      <th>Tipo de Ocupación</th>\n",
       "      <th>Mayor a 30</th>\n",
       "      <th>Volumen de Compras</th>\n",
       "      <th>Mayoria de elementos comprados</th>\n",
       "      <th>Campaña</th>\n",
       "    </tr>\n",
       "  </thead>\n",
       "  <tbody>\n",
       "    <tr>\n",
       "      <th>0</th>\n",
       "      <td>Empleado</td>\n",
       "      <td>Si</td>\n",
       "      <td>Alto</td>\n",
       "      <td>Ferretería</td>\n",
       "      <td>Salud</td>\n",
       "    </tr>\n",
       "    <tr>\n",
       "      <th>1</th>\n",
       "      <td>Independiente</td>\n",
       "      <td>Si</td>\n",
       "      <td>Medio</td>\n",
       "      <td>Vesturario</td>\n",
       "      <td>Hogar</td>\n",
       "    </tr>\n",
       "    <tr>\n",
       "      <th>2</th>\n",
       "      <td>Independiente</td>\n",
       "      <td>No</td>\n",
       "      <td>Alto</td>\n",
       "      <td>Vesturario</td>\n",
       "      <td>Viajes</td>\n",
       "    </tr>\n",
       "    <tr>\n",
       "      <th>3</th>\n",
       "      <td>Independiente</td>\n",
       "      <td>Si</td>\n",
       "      <td>Alto</td>\n",
       "      <td>Mercado</td>\n",
       "      <td>Hogar</td>\n",
       "    </tr>\n",
       "    <tr>\n",
       "      <th>4</th>\n",
       "      <td>Empleado</td>\n",
       "      <td>Si</td>\n",
       "      <td>Bajo</td>\n",
       "      <td>Mercado</td>\n",
       "      <td>Viajes</td>\n",
       "    </tr>\n",
       "    <tr>\n",
       "      <th>5</th>\n",
       "      <td>Empleado</td>\n",
       "      <td>Si</td>\n",
       "      <td>Medio</td>\n",
       "      <td>Vesturario</td>\n",
       "      <td>Salud</td>\n",
       "    </tr>\n",
       "    <tr>\n",
       "      <th>6</th>\n",
       "      <td>Empleado</td>\n",
       "      <td>No</td>\n",
       "      <td>Alto</td>\n",
       "      <td>Vesturario</td>\n",
       "      <td>Viajes</td>\n",
       "    </tr>\n",
       "  </tbody>\n",
       "</table>\n",
       "</div>"
      ],
      "text/plain": [
       "  Tipo de Ocupación Mayor a 30 Volumen de Compras  \\\n",
       "0          Empleado         Si               Alto   \n",
       "1     Independiente         Si              Medio   \n",
       "2     Independiente         No               Alto   \n",
       "3     Independiente         Si               Alto   \n",
       "4          Empleado         Si               Bajo   \n",
       "5          Empleado         Si              Medio   \n",
       "6          Empleado         No               Alto   \n",
       "\n",
       "  Mayoria de elementos comprados Campaña  \n",
       "0                     Ferretería   Salud  \n",
       "1                     Vesturario   Hogar  \n",
       "2                     Vesturario  Viajes  \n",
       "3                        Mercado   Hogar  \n",
       "4                        Mercado  Viajes  \n",
       "5                     Vesturario   Salud  \n",
       "6                     Vesturario  Viajes  "
      ]
     },
     "execution_count": 40,
     "metadata": {},
     "output_type": "execute_result"
    }
   ],
   "source": [
    "dDatos = pd.read_csv('Datos_Balegria.csv')\n",
    "Datos.head(7)"
   ]
  },
  {
   "cell_type": "markdown",
   "metadata": {},
   "source": [
    "Se obtienen los datos de las filas seleccionadas que equivaldrian a las caracteristicas de la persona de las cuales nos vamos a basar y se obtiene el dato campaña de las filas seleccionadas."
   ]
  },
  {
   "cell_type": "code",
   "execution_count": 41,
   "metadata": {},
   "outputs": [],
   "source": [
    "features_train = Datos.iloc[0:7,0:4]\n",
    "target_train = Datos.iloc[0:7,4]"
   ]
  },
  {
   "cell_type": "markdown",
   "metadata": {},
   "source": [
    "Luego, se convierteno transforman las caracteristicas obtenidas en valores numericos para ordenarlos y prepararlos para el analisis siguiente. "
   ]
  },
  {
   "cell_type": "code",
   "execution_count": 42,
   "metadata": {},
   "outputs": [
    {
     "name": "stdout",
     "output_type": "stream",
     "text": [
      "[(0, 1, 0, 0), (1, 1, 2, 2), (1, 0, 0, 2), (1, 1, 0, 1), (0, 1, 1, 1), (0, 1, 2, 2), (0, 0, 0, 2)]\n",
      "[1 0 2 0 2 1 2]\n"
     ]
    }
   ],
   "source": [
    "from sklearn import preprocessing\n",
    "le = preprocessing.LabelEncoder()\n",
    "f0 = le.fit_transform(features_train.iloc[0:7,0])\n",
    "f1 = le.fit_transform(features_train.iloc[0:7,1])\n",
    "f2 = le.fit_transform(features_train.iloc[0:7,2])\n",
    "f3 = le.fit_transform(features_train.iloc[0:7,3])\n",
    "label = le.fit_transform(target_train)\n",
    "features = list(zip(f0,f1,f2,f3))\n",
    "print(features)\n",
    "print(label)"
   ]
  },
  {
   "cell_type": "markdown",
   "metadata": {},
   "source": [
    "A través de la libreria GaussianNB se utiliza el algoritmo de Naive Bayes para determinar la probabilidad en la que se le puede recomendar una campaña a una persona que cumpla con las caracteristicas dadas basado del listado obtenido anteriormente. Mediante la funcion predict() de la libreria GaussianNB que recibe como parametró un array de números equivalente a las caracteristicas se puede obtener un array con el valor equivalente a la campaña a recomendar."
   ]
  },
  {
   "cell_type": "code",
   "execution_count": 43,
   "metadata": {
    "scrolled": true
   },
   "outputs": [
    {
     "name": "stdout",
     "output_type": "stream",
     "text": [
      "[2]\n"
     ]
    }
   ],
   "source": [
    "from sklearn.naive_bayes import GaussianNB\n",
    "model1 = GaussianNB()\n",
    "model1.fit(features,label)\n",
    "#Predicted = model1.predict([[1,1,0,2]])\n",
    "#Predicted = model1.predict([[0,1,2,1]])\n",
    "Predicted = model1.predict([[0,0,2,1]])\n",
    "print(Predicted)"
   ]
  },
  {
   "cell_type": "markdown",
   "metadata": {},
   "source": [
    "Importamos la libreria unittest que nos permitira realizar las pruebas unitarias necesarias para comprobar el correcto funcionamiento del código"
   ]
  },
  {
   "cell_type": "code",
   "execution_count": 44,
   "metadata": {},
   "outputs": [],
   "source": [
    "import unittest"
   ]
  },
  {
   "cell_type": "markdown",
   "metadata": {},
   "source": [
    "Definimos una clase TestUnit que contendrá una función test() con la logica de la prueba. Para este caso de prueba usamos la funcion assertEqual para verificar que el valor pasado como primer parametro sea el que esperamos en el segundo parametro."
   ]
  },
  {
   "cell_type": "code",
   "execution_count": 48,
   "metadata": {},
   "outputs": [],
   "source": [
    "class TestUnit(unittest.TestCase):\n",
    "     def test(self):\n",
    "            \n",
    "        self.assertEqual( Predicted[0], 2)\n"
   ]
  },
  {
   "cell_type": "markdown",
   "metadata": {},
   "source": [
    "Luego llamamos al main de unittest para ejecutar la prueba. La respuesta esperada para pasar la prueba es OK "
   ]
  },
  {
   "cell_type": "code",
   "execution_count": 49,
   "metadata": {
    "scrolled": true
   },
   "outputs": [
    {
     "name": "stderr",
     "output_type": "stream",
     "text": [
      "test (__main__.TestUnit) ... ok\n",
      "\n",
      "----------------------------------------------------------------------\n",
      "Ran 1 test in 0.005s\n",
      "\n",
      "OK\n"
     ]
    }
   ],
   "source": [
    "if __name__ == '__main__':\n",
    "    unittest.main(argv=['ignored', '-v'], exit=False)"
   ]
  },
  {
   "cell_type": "markdown",
   "metadata": {},
   "source": [
    "# Integration and system testing\n",
    "\n",
    "La integración del sistema desarrollado se podría realizar utilizando una fuente de datos mayor alojada en una herramienta de almacenamiento de datos tal como firebase, postgress o mysql. Además, se podría integrar con una herramienta tal como django que permita una mejor usabilidad permitiendo al usuario seleccionar la fuente de datos a traves de una interfaz grafica y aumentando su alcance ya que django puede proveerse en tecnologias web."
   ]
  },
  {
   "cell_type": "markdown",
   "metadata": {},
   "source": [
    "# Operation and maintance\n",
    "\n",
    "EL sistema requerira un sistema de alojamiento que sea persistente permitiendo la disponibilidad 24/7 si se presenta como servicio web y se debe tener en cuenta que si se desea escalar el sistema, se debe considerar aumentar la capacidad y prestaciones de los equipos y sistemas usados.  "
   ]
  },
  {
   "cell_type": "code",
   "execution_count": null,
   "metadata": {},
   "outputs": [],
   "source": []
  }
 ],
 "metadata": {
  "kernelspec": {
   "display_name": "Python 3",
   "language": "python",
   "name": "python3"
  },
  "language_info": {
   "codemirror_mode": {
    "name": "ipython",
    "version": 3
   },
   "file_extension": ".py",
   "mimetype": "text/x-python",
   "name": "python",
   "nbconvert_exporter": "python",
   "pygments_lexer": "ipython3",
   "version": "3.7.0"
  }
 },
 "nbformat": 4,
 "nbformat_minor": 2
}
