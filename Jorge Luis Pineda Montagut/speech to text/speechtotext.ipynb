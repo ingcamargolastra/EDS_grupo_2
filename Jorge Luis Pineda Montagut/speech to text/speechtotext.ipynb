{
 "cells": [
  {
<<<<<<< HEAD
   "cell_type": "code",
   "execution_count": null,
=======
   "cell_type": "markdown",
   "metadata": {},
   "source": [
    "# Jorge Pineda - Luis Palmera\n",
    "Se crea un metodo que permite descargar el archivo desde Google Drive"
   ]
  },
  {
   "cell_type": "code",
   "execution_count": 16,
>>>>>>> bcb6cec6bb7c76bbaf22278558f3be044343c8ac
   "metadata": {},
   "outputs": [],
   "source": [
    "import requests\n",
    "\n",
    "class DownloadFile():\n",
    "    \n",
    "    def __init__(self, file_id, destination):\n",
    "        self.file_id = file_id\n",
    "        self.destination = destination\n",
    "    \n",
    "    def download(self):\n",
    "        URL = \"https://docs.google.com/uc?export=download\"\n",
    "\n",
    "        session = requests.Session()\n",
    "\n",
    "        response = session.get(URL, params = { 'id' : self.file_id }, stream = True)\n",
<<<<<<< HEAD
    "        token = get_confirm_token(response)\n",
=======
    "        token = self.get_confirm_token(response)\n",
>>>>>>> bcb6cec6bb7c76bbaf22278558f3be044343c8ac
    "\n",
    "        if token:\n",
    "            params = { 'id' : id, 'confirm' : token }\n",
    "            response = session.get(URL, params = params, stream = True)\n",
    "\n",
<<<<<<< HEAD
    "        save_response_content(response, self.destination)    \n",
=======
    "        self.save_response_content(response, self.destination)    \n",
>>>>>>> bcb6cec6bb7c76bbaf22278558f3be044343c8ac
    "\n",
    "    def get_confirm_token(self, response):\n",
    "        for key, value in response.cookies.items():\n",
    "            if key.startswith('download_warning'):\n",
    "                return value\n",
    "\n",
    "        return None\n",
    "\n",
    "    def save_response_content(self, response, destination):\n",
    "        CHUNK_SIZE = 32768\n",
    "\n",
    "        with open(destination, \"wb\") as f:\n",
    "            for chunk in response.iter_content(CHUNK_SIZE):\n",
    "                if chunk: # filter out keep-alive new chunks\n",
    "                    f.write(chunk)"
   ]
  },
  {
<<<<<<< HEAD
   "cell_type": "code",
   "execution_count": null,
   "metadata": {},
   "outputs": [],
=======
   "cell_type": "markdown",
   "metadata": {},
   "source": [
    "Se solicita la URL compartida del archivo desde Google Drive y el formato del archivo a leer. Luego se muestra el texto del audio. No puede ser un audio muy grande"
   ]
  },
  {
   "cell_type": "code",
   "execution_count": 19,
   "metadata": {},
   "outputs": [
    {
     "name": "stdout",
     "output_type": "stream",
     "text": [
      "Digite la URL compartida de google drive:https://drive.google.com/open?id=1uhnfa7tNxeYSKO3saXzmsiXZtImsYmWK\n",
      "Formato del archivo:\n",
      "1.MP3\n",
      "2.WAV\n",
      "Ingrese el formato: 2\n",
      "2\n",
      "audioprueba3.wav\n",
      "Usted dijo: Hola cómo estás\n"
     ]
    }
   ],
>>>>>>> bcb6cec6bb7c76bbaf22278558f3be044343c8ac
   "source": [
    "from os import path\n",
    "from pydub import AudioSegment\n",
    "import IPython\n",
    "import speech_recognition as sr     # import the library\n",
    "r = sr.Recognizer()                 # initialize recognizer\n",
    "\n",
<<<<<<< HEAD
    "#file_id = '1uhnfa7tNxeYSKO3saXzmsiXZtImsYmWK'\n",
    "file_name = 'audioprueba.wav'\n",
    "#obj = DownloadFile(file_id, file_name)\n",
    "#obj.download()\n",
=======
    "path = input(\"Digite la URL compartida de google drive:\");\n",
    "\n",
    "print('Formato del archivo:')\n",
    "print('1.MP3')\n",
    "print('2.WAV')\n",
    "formato = int(input(\"Ingrese el formato: \"))\n",
    "print(formato)\n",
    "\n",
    "\n",
    "if 'id=' in path:\n",
    "    file_id = path.split(\"id=\")[1]\n",
    "else:\n",
    "    file_id = path.split(\"/\")[5]\n",
    "\n",
    "if formato == 1:\n",
    "    file_name = 'audioprueba3.mp3'\n",
    "else:\n",
    "    file_name = 'audioprueba3.wav'\n",
    "    print(file_name)\n",
    "obj = DownloadFile(file_id, file_name)\n",
    "obj.download()\n",
>>>>>>> bcb6cec6bb7c76bbaf22278558f3be044343c8ac
    "\n",
    "#file_name = \"audio.mp3\"\n",
    "file_audio = sr.AudioFile(file_name)\n",
    "\n",
    "\n",
    "if file_name.endswith('.mp3'):\n",
    "    # files                                                                         \n",
    "    #src = \"audio.mp3\"\n",
    "    dst = \"test3.wav\"\n",
    "\n",
    "    # convert wav to mp3                                                            \n",
    "    sound = AudioSegment.from_mp3(file_name)\n",
    "    sound.export(dst, format=\"wav\")\n",
    "    file_audio = sr.AudioFile(dst)\n",
    "    \n",
    "with file_audio as source:\n",
    "    \n",
    "    audio_text = r.record(source)\n",
    "\n",
    "#print(type(audio_text))\n",
    "texto = r.recognize_google(audio_text,language=\"es-CO\")\n",
<<<<<<< HEAD
    "print(\"Usted dijo: \"+texto)\n"
=======
    "print(\"El audio dice: \"+texto)\n"
   ]
  },
  {
   "cell_type": "markdown",
   "metadata": {},
   "source": [
    "Se almacena el texto extraido del audio en la base de datos"
>>>>>>> bcb6cec6bb7c76bbaf22278558f3be044343c8ac
   ]
  },
  {
   "cell_type": "code",
<<<<<<< HEAD
   "execution_count": null,
=======
   "execution_count": 18,
>>>>>>> bcb6cec6bb7c76bbaf22278558f3be044343c8ac
   "metadata": {},
   "outputs": [],
   "source": [
    "      \n",
    "import os\n",
    "import pymysql\n",
    "import pandas as pd\n",
    "\n",
    "host = os.getenv('localhost')\n",
    "port = os.getenv('3306')\n",
<<<<<<< HEAD
    "user = os.getenv('prueba')\n",
    "password = os.getenv('password')\n",
=======
    "user = os.getenv('root')\n",
    "password = os.getenv('')\n",
>>>>>>> bcb6cec6bb7c76bbaf22278558f3be044343c8ac
    "database = os.getenv('pruebaaudio')\n",
    "\n",
    "conn = pymysql.connect(\n",
    "    host=host,\n",
    "    port=int(3306),\n",
<<<<<<< HEAD
    "    user=\"prueba\",\n",
    "    passwd=\"password\",\n",
=======
    "    user=\"root\",\n",
    "    passwd=\"\",\n",
>>>>>>> bcb6cec6bb7c76bbaf22278558f3be044343c8ac
    "    db=\"pruebaaudio\",\n",
    "    charset='utf8mb4')\n",
    "\n",
    "#df = pd.read_sql_query(\"SELECT * FROM audios\",\n",
    "#    conn)\n",
    "#texto = \"guardar\"\n",
    "#print(texto)\n",
    "cursor=conn.cursor()\n",
    "insert_query= \"INSERT INTO audios (texto) VALUES ('\"+str(texto)+\"');\"\n",
    "cursor.execute(insert_query)\n",
    "conn.commit()\n",
    "\n",
    "#df = pd.read_sql_query(\"INSERT INTO audios (texto) VALUES ('hola2')\",conn)\n",
    "#df.tail(10)\n",
    "#print(df)"
   ]
  },
  {
   "cell_type": "code",
   "execution_count": null,
   "metadata": {},
   "outputs": [],
   "source": []
  }
 ],
 "metadata": {
  "kernelspec": {
   "display_name": "Python 3",
   "language": "python",
   "name": "python3"
  },
  "language_info": {
   "codemirror_mode": {
    "name": "ipython",
    "version": 3
   },
   "file_extension": ".py",
   "mimetype": "text/x-python",
   "name": "python",
   "nbconvert_exporter": "python",
   "pygments_lexer": "ipython3",
<<<<<<< HEAD
   "version": "3.7.0"
=======
   "version": "3.7.1"
>>>>>>> bcb6cec6bb7c76bbaf22278558f3be044343c8ac
  }
 },
 "nbformat": 4,
 "nbformat_minor": 2
}
