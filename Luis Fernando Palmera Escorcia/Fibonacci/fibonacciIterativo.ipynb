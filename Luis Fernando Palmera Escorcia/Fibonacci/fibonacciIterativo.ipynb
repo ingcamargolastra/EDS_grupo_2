{
 "cells": [
  {
   "cell_type": "markdown",
   "metadata": {},
   "source": [
    "# Clase1 Modelo de procesos\n",
    "Autor: Luis Palmera"
   ]
  },
  {
   "cell_type": "code",
   "execution_count": 1,
   "metadata": {},
   "outputs": [
    {
     "name": "stdout",
     "output_type": "stream",
     "text": [
      "Ingrese valor 10\n",
      "El valor de la serie es:  55\n"
     ]
    }
   ],
   "source": [
    "def calcularFibonacci (n):\n",
    "    \n",
    "    a = 0\n",
    "    b = 1\n",
    "    f = 0\n",
    "    for i in range (n):\n",
    "        a = b\n",
    "        b = f\n",
    "        f = a + b\n",
    "        \n",
    "        if(i==n-1):\n",
    "            \n",
    "            print(\"El valor de la serie es: \",f)\n",
    "            break\n",
    "        \n",
    "        \n",
    "n = int(input(\"Ingrese valor \" ))\n",
    "\n",
    "calcularFibonacci(n)\n",
    "\n",
    "\n",
    " "
   ]
  },
  {
   "cell_type": "code",
   "execution_count": null,
   "metadata": {},
   "outputs": [],
   "source": [
    "\n",
    "\n"
   ]
  },
  {
   "cell_type": "code",
   "execution_count": null,
   "metadata": {},
   "outputs": [],
   "source": []
  },
  {
   "cell_type": "code",
   "execution_count": null,
   "metadata": {},
   "outputs": [],
   "source": []
  },
  {
   "cell_type": "code",
   "execution_count": null,
   "metadata": {},
   "outputs": [],
   "source": []
  },
  {
   "cell_type": "code",
   "execution_count": null,
   "metadata": {},
   "outputs": [],
   "source": []
  }
 ],
 "metadata": {
  "kernelspec": {
   "display_name": "Python 3",
   "language": "python",
   "name": "python3"
  },
  "language_info": {
   "codemirror_mode": {
    "name": "ipython",
    "version": 3
   },
   "file_extension": ".py",
   "mimetype": "text/x-python",
   "name": "python",
   "nbconvert_exporter": "python",
   "pygments_lexer": "ipython3",
   "version": "3.7.4"
  }
 },
 "nbformat": 4,
 "nbformat_minor": 2
}
