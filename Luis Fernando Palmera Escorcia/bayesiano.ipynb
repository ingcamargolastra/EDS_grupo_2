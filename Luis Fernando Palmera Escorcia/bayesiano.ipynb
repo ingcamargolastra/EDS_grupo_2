{
 "cells": [
  {
   "cell_type": "markdown",
   "metadata": {},
   "source": [
    "# Modelo de cascada"
   ]
  },
  {
   "cell_type": "markdown",
   "metadata": {},
   "source": [
    "# Definición de requerimientos\n",
    "\n",
    "Se requiere dar recomendación con respecto al uso que le dará determinada persona a los puntos de la tarjeta de crédito, dependiendo de una caracterización que se le realiza a la persona. Además, se cuenta con una base de conocimiento el cual está conformado por 4 columnas, las cuales son:\n",
    "    - Tipo de ocupación (Empleado, Independiente)\n",
    "    - Mayor a 30 (Si, No)\n",
    "    - Volumen de compras (Bajo, Medio, Alto)\n",
    "    - Mayoria de elementos comprados (Ferreteria, Mercado, Vestuario, entre otros)\n",
    "    - Campaña (Hogar, viajes, salud, entre otros)\n",
    "\n",
    "Los datos anteriores son los necesarios para efectuar la predicción, a excepción del atributo campaña, el cual es el que se va a predecir.\n",
    "\n",
    "Además, el formato del archivo donde se encuentra almacenada la base de conocimiento es de tipo \".csv\"."
   ]
  },
  {
   "cell_type": "markdown",
   "metadata": {},
   "source": [
    "# Diseño\n",
    "\n",
    "La solución se realizará en python, debido a que este lenguaje cuenta con los diversos métodos estadísticos para llevar a cabo la predicción. El método a utilizar será el teorema de Bayes, el cual nos dice la probabilidad de que un evento ocurra dada una determinada variable.\n",
    "Se implementarán bibliotecas como \"pandas\", para la manipulación y análisis de los datos; también, se usará el método Gaussiano para llevar a cabo la obtención de la distribución normal de los datos; unittest para la reallización de las pruebas unitarias.\n",
    "\n",
    "En primera instancia se leerá el archivo \".csv\", se hará la manipulación y transformación de los datos, para luego llevar a cabo la implementación de los métodos estadísticos para predicciones, y por último mostrar la predicción."
   ]
  },
  {
   "cell_type": "markdown",
   "metadata": {},
   "source": [
    "#  Implementación y pruebas unitarias"
   ]
  },
  {
   "cell_type": "code",
   "execution_count": null,
   "metadata": {},
   "outputs": [],
   "source": [
    "Se importa la biblioteca de pandas, el cual se usará para la lectura, manipulación y transformación de los \n",
    "datos que se encuentran almacenados en el archivo."
   ]
  },
  {
   "cell_type": "code",
   "execution_count": 36,
   "metadata": {},
   "outputs": [],
   "source": [
    "import pandas as pd\n"
   ]
  },
  {
   "cell_type": "code",
   "execution_count": 37,
   "metadata": {
    "scrolled": true
   },
   "outputs": [
    {
     "data": {
      "text/html": [
       "<div>\n",
       "<style scoped>\n",
       "    .dataframe tbody tr th:only-of-type {\n",
       "        vertical-align: middle;\n",
       "    }\n",
       "\n",
       "    .dataframe tbody tr th {\n",
       "        vertical-align: top;\n",
       "    }\n",
       "\n",
       "    .dataframe thead th {\n",
       "        text-align: right;\n",
       "    }\n",
       "</style>\n",
       "<table border=\"1\" class=\"dataframe\">\n",
       "  <thead>\n",
       "    <tr style=\"text-align: right;\">\n",
       "      <th></th>\n",
       "      <th>Tipo de Ocupación</th>\n",
       "      <th>Mayor a 30</th>\n",
       "      <th>Volumen de Compras</th>\n",
       "      <th>Mayoria de elementos comprados</th>\n",
       "      <th>Campaña</th>\n",
       "    </tr>\n",
       "  </thead>\n",
       "  <tbody>\n",
       "    <tr>\n",
       "      <td>0</td>\n",
       "      <td>Empleado</td>\n",
       "      <td>Si</td>\n",
       "      <td>Alto</td>\n",
       "      <td>Ferretería</td>\n",
       "      <td>Salud</td>\n",
       "    </tr>\n",
       "    <tr>\n",
       "      <td>1</td>\n",
       "      <td>Independiente</td>\n",
       "      <td>Si</td>\n",
       "      <td>Medio</td>\n",
       "      <td>Vesturario</td>\n",
       "      <td>Hogar</td>\n",
       "    </tr>\n",
       "    <tr>\n",
       "      <td>2</td>\n",
       "      <td>Independiente</td>\n",
       "      <td>No</td>\n",
       "      <td>Alto</td>\n",
       "      <td>Vesturario</td>\n",
       "      <td>Viajes</td>\n",
       "    </tr>\n",
       "    <tr>\n",
       "      <td>3</td>\n",
       "      <td>Independiente</td>\n",
       "      <td>Si</td>\n",
       "      <td>Alto</td>\n",
       "      <td>Mercado</td>\n",
       "      <td>Hogar</td>\n",
       "    </tr>\n",
       "    <tr>\n",
       "      <td>4</td>\n",
       "      <td>Empleado</td>\n",
       "      <td>Si</td>\n",
       "      <td>Bajo</td>\n",
       "      <td>Mercado</td>\n",
       "      <td>Viajes</td>\n",
       "    </tr>\n",
       "    <tr>\n",
       "      <td>5</td>\n",
       "      <td>Empleado</td>\n",
       "      <td>Si</td>\n",
       "      <td>Medio</td>\n",
       "      <td>Vesturario</td>\n",
       "      <td>Salud</td>\n",
       "    </tr>\n",
       "    <tr>\n",
       "      <td>6</td>\n",
       "      <td>Empleado</td>\n",
       "      <td>No</td>\n",
       "      <td>Alto</td>\n",
       "      <td>Vesturario</td>\n",
       "      <td>Viajes</td>\n",
       "    </tr>\n",
       "    <tr>\n",
       "      <td>7</td>\n",
       "      <td>Empleado</td>\n",
       "      <td>Si</td>\n",
       "      <td>Alto</td>\n",
       "      <td>Mercado</td>\n",
       "      <td>Hogar</td>\n",
       "    </tr>\n",
       "    <tr>\n",
       "      <td>8</td>\n",
       "      <td>NaN</td>\n",
       "      <td>NaN</td>\n",
       "      <td>NaN</td>\n",
       "      <td>NaN</td>\n",
       "      <td>NaN</td>\n",
       "    </tr>\n",
       "    <tr>\n",
       "      <td>9</td>\n",
       "      <td>NaN</td>\n",
       "      <td>NaN</td>\n",
       "      <td>NaN</td>\n",
       "      <td>NaN</td>\n",
       "      <td>NaN</td>\n",
       "    </tr>\n",
       "    <tr>\n",
       "      <td>10</td>\n",
       "      <td>NaN</td>\n",
       "      <td>NaN</td>\n",
       "      <td>NaN</td>\n",
       "      <td>NaN</td>\n",
       "      <td>NaN</td>\n",
       "    </tr>\n",
       "    <tr>\n",
       "      <td>11</td>\n",
       "      <td>NaN</td>\n",
       "      <td>NaN</td>\n",
       "      <td>NaN</td>\n",
       "      <td>NaN</td>\n",
       "      <td>NaN</td>\n",
       "    </tr>\n",
       "    <tr>\n",
       "      <td>12</td>\n",
       "      <td>NaN</td>\n",
       "      <td>NaN</td>\n",
       "      <td>NaN</td>\n",
       "      <td>NaN</td>\n",
       "      <td>NaN</td>\n",
       "    </tr>\n",
       "    <tr>\n",
       "      <td>13</td>\n",
       "      <td>NaN</td>\n",
       "      <td>NaN</td>\n",
       "      <td>NaN</td>\n",
       "      <td>NaN</td>\n",
       "      <td>NaN</td>\n",
       "    </tr>\n",
       "    <tr>\n",
       "      <td>14</td>\n",
       "      <td>Empleado</td>\n",
       "      <td>Si</td>\n",
       "      <td>Medio</td>\n",
       "      <td>Mercado</td>\n",
       "      <td>Hogar</td>\n",
       "    </tr>\n",
       "    <tr>\n",
       "      <td>15</td>\n",
       "      <td>Independiente</td>\n",
       "      <td>Si</td>\n",
       "      <td>Alto</td>\n",
       "      <td>Vesturario</td>\n",
       "      <td>Viajes</td>\n",
       "    </tr>\n",
       "  </tbody>\n",
       "</table>\n",
       "</div>"
      ],
      "text/plain": [
       "   Tipo de Ocupación Mayor a 30 Volumen de Compras  \\\n",
       "0           Empleado         Si               Alto   \n",
       "1      Independiente         Si              Medio   \n",
       "2      Independiente         No               Alto   \n",
       "3      Independiente         Si               Alto   \n",
       "4           Empleado         Si               Bajo   \n",
       "5           Empleado         Si              Medio   \n",
       "6           Empleado         No               Alto   \n",
       "7           Empleado         Si               Alto   \n",
       "8                NaN        NaN                NaN   \n",
       "9                NaN        NaN                NaN   \n",
       "10               NaN        NaN                NaN   \n",
       "11               NaN        NaN                NaN   \n",
       "12               NaN        NaN                NaN   \n",
       "13               NaN        NaN                NaN   \n",
       "14          Empleado         Si              Medio   \n",
       "15     Independiente         Si               Alto   \n",
       "\n",
       "   Mayoria de elementos comprados Campaña  \n",
       "0                      Ferretería   Salud  \n",
       "1                      Vesturario   Hogar  \n",
       "2                      Vesturario  Viajes  \n",
       "3                         Mercado   Hogar  \n",
       "4                         Mercado  Viajes  \n",
       "5                      Vesturario   Salud  \n",
       "6                      Vesturario  Viajes  \n",
       "7                         Mercado   Hogar  \n",
       "8                             NaN     NaN  \n",
       "9                             NaN     NaN  \n",
       "10                            NaN     NaN  \n",
       "11                            NaN     NaN  \n",
       "12                            NaN     NaN  \n",
       "13                            NaN     NaN  \n",
       "14                        Mercado   Hogar  \n",
       "15                     Vesturario  Viajes  "
      ]
     },
     "execution_count": 37,
     "metadata": {},
     "output_type": "execute_result"
    }
   ],
   "source": [
    "Datos = pd.read_csv('Datos_Balegria.csv')\n",
    "Datos.head(16)"
   ]
  },
  {
   "cell_type": "code",
   "execution_count": null,
   "metadata": {},
   "outputs": [],
   "source": [
    "Se lleva a cabo la obtención de los valores que se van a analizar y se define la variable \n",
    "o categoria a predecir."
   ]
  },
  {
   "cell_type": "code",
   "execution_count": 38,
   "metadata": {},
   "outputs": [],
   "source": [
    "#0 empleado 1 independiente\n",
    "#0 no 1 si\n",
    "#0alto 1 bajo 2 medio\n",
    "#0 ferreteria 1 mercado 2 vestuario\n",
    "#0 hogar 1 salud 2 viajes\n",
    "features_train = Datos.iloc[0:7,0:4]\n",
    "target_train = Datos.iloc[0:7,4]"
   ]
  },
  {
   "cell_type": "code",
   "execution_count": null,
   "metadata": {},
   "outputs": [],
   "source": [
    "Se realiza la transformación de los datos de categoricos a numéricos, para que sea más fácil procesarlos\n",
    "y operarlos. "
   ]
  },
  {
   "cell_type": "code",
   "execution_count": 39,
   "metadata": {},
   "outputs": [
    {
     "name": "stdout",
     "output_type": "stream",
     "text": [
      "[(0, 1, 0, 0), (1, 1, 2, 2), (1, 0, 0, 2), (1, 1, 0, 1), (0, 1, 1, 1), (0, 1, 2, 2), (0, 0, 0, 2)]\n",
      "[1 0 2 0 2 1 2]\n"
     ]
    }
   ],
   "source": [
    "#Import LabeñEncoder\n",
    "from sklearn import preprocessing\n",
    "le = preprocessing.LabelEncoder()\n",
    "f0 = le.fit_transform(features_train.iloc[0:7,0])\n",
    "f1 = le.fit_transform(features_train.iloc[0:7,1])\n",
    "f2 = le.fit_transform(features_train.iloc[0:7,2])\n",
    "f3 = le.fit_transform(features_train.iloc[0:7,3])\n",
    "label = le.fit_transform(target_train)\n",
    "features = list(zip(f0,f1,f2,f3))\n",
    "print (features)\n",
    "print(label)"
   ]
  },
  {
   "cell_type": "code",
   "execution_count": null,
   "metadata": {},
   "outputs": [],
   "source": [
    "Se lleva a cabo la implementación de la biblioteca \"GaussianNB\" para obtener la distribución \n",
    "normal de los datos.\n",
    "\n",
    "Así mismo, se importa e implementa la biblioteca de \"unittest\" para llevar a cabo la \n",
    "realización de las pruebas unitarias, pasando como parametros el registro a analizar y el valor esperado. "
   ]
  },
  {
   "cell_type": "code",
   "execution_count": 50,
   "metadata": {},
   "outputs": [
    {
     "name": "stderr",
     "output_type": "stream",
     "text": [
      "test_ (__main__.TestPrediction) ... "
     ]
    },
    {
     "name": "stdout",
     "output_type": "stream",
     "text": [
      "[2]\n"
     ]
    },
    {
     "name": "stderr",
     "output_type": "stream",
     "text": [
      "ok\n",
      "\n",
      "----------------------------------------------------------------------\n",
      "Ran 1 test in 0.002s\n",
      "\n",
      "OK\n"
     ]
    }
   ],
   "source": [
    "import unittest\n",
    "\n",
    "from sklearn.naive_bayes import GaussianNB\n",
    "\n",
    "\n",
    "model1 = GaussianNB()\n",
    "model1.fit(features,label)\n",
    "#Predicted = model1.predict([[1,1,0,2]])\n",
    "#Predicted = model1.predict([[0,1,2,1]])\n",
    "#Predicted = model1.predict()\n",
    "Predicted = model1.predict([[0,0,2,1]])\n",
    "print(Predicted)\n",
    "    \n",
    "\n",
    "\n",
    "class TestPrediction(unittest.TestCase):\n",
    "    \n",
    "    def test_(self):\n",
    "        self.assertEqual(Predicted[0], 2)\n",
    "if __name__=='__main__':\n",
    "    unittest.main(argv=[''], verbosity=2, exit=False)\n",
    "        "
   ]
  },
  {
   "cell_type": "markdown",
   "metadata": {},
   "source": [
    "# Integración y sistema de prueba\n",
    "\n",
    "Visualizando la solución de una manera escalable, es decir, la fuente de los datos no será un archivo \".csv\", sino que la cantidad de datos a analizar van a ser mucho mayor; por lo tanto, dicha fuente se encontrará en una base de datos.\n",
    "\n",
    "Así mismo, se puede obtener datos desde varias fuentes; sin embargo, se deberá llevar a cabo la unificación de los datos. Dicha unificación se realizará mediante ETL's, para llevar a cabo la extracción, transformación y carga de los datos; los datos ya limpios serán almacenados en una bodega de datos, la cual será consumida por la solución."
   ]
  },
  {
   "cell_type": "markdown",
   "metadata": {},
   "source": [
    "#  Mantenimiento y operación\n",
    "\n",
    "Se debe tener en cuenta que con el pasar del tiempo, a medida que los datos aumenten, se necesite mayor poder de procesamiento, entonces, el cambio a un servidor mas potente o más bien el alojamiento en la nube de los datos para que dichos datos se encuentren disponible 24/7, lo que es una de las características deseadas para cualquier software, brindarle al usuario información requerida al momento que él lo desee."
   ]
  },
  {
   "cell_type": "code",
   "execution_count": null,
   "metadata": {},
   "outputs": [],
   "source": []
  },
  {
   "cell_type": "code",
   "execution_count": null,
   "metadata": {},
   "outputs": [],
   "source": []
  },
  {
   "cell_type": "code",
   "execution_count": null,
   "metadata": {},
   "outputs": [],
   "source": []
  },
  {
   "cell_type": "code",
   "execution_count": null,
   "metadata": {},
   "outputs": [],
   "source": []
  }
 ],
 "metadata": {
  "kernelspec": {
   "display_name": "Python 3",
   "language": "python",
   "name": "python3"
  },
  "language_info": {
   "codemirror_mode": {
    "name": "ipython",
    "version": 3
   },
   "file_extension": ".py",
   "mimetype": "text/x-python",
   "name": "python",
   "nbconvert_exporter": "python",
   "pygments_lexer": "ipython3",
   "version": "3.7.4"
  }
 },
 "nbformat": 4,
 "nbformat_minor": 2
}
